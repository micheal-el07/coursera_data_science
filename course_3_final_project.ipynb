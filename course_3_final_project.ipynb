{
  "nbformat": 4,
  "nbformat_minor": 0,
  "metadata": {
    "colab": {
      "provenance": [],
      "authorship_tag": "ABX9TyOO3Vr8y3vvzf69B2qA1z/M",
      "include_colab_link": true
    },
    "kernelspec": {
      "name": "python3",
      "display_name": "Python 3"
    },
    "language_info": {
      "name": "python"
    }
  },
  "cells": [
    {
      "cell_type": "markdown",
      "metadata": {
        "id": "view-in-github",
        "colab_type": "text"
      },
      "source": [
        "<a href=\"https://colab.research.google.com/github/micheal-el07/coursera_data_science/blob/main/course_3_final_project.ipynb\" target=\"_parent\"><img src=\"https://colab.research.google.com/assets/colab-badge.svg\" alt=\"Open In Colab\"/></a>"
      ]
    },
    {
      "cell_type": "code",
      "execution_count": 1,
      "metadata": {
        "id": "kNG9hXJkNMNo"
      },
      "outputs": [],
      "source": [
        "import sqlite3\n",
        "import requests\n",
        "from datetime import datetime\n",
        "import numpy as np\n",
        "import pandas as pd\n",
        "from bs4 import BeautifulSoup"
      ]
    },
    {
      "cell_type": "code",
      "source": [
        "!wget https://cf-courses-data.s3.us.cloud-object-storage.appdomain.cloud/IBMSkillsNetwork-PY0221EN-Coursera/labs/v2/exchange_rate.csv"
      ],
      "metadata": {
        "colab": {
          "base_uri": "https://localhost:8080/"
        },
        "id": "lxmMMuQzNSId",
        "outputId": "42cd0064-2bd8-4d33-9251-448233cbb461"
      },
      "execution_count": 2,
      "outputs": [
        {
          "output_type": "stream",
          "name": "stdout",
          "text": [
            "--2023-10-21 12:28:53--  https://cf-courses-data.s3.us.cloud-object-storage.appdomain.cloud/IBMSkillsNetwork-PY0221EN-Coursera/labs/v2/exchange_rate.csv\n",
            "Resolving cf-courses-data.s3.us.cloud-object-storage.appdomain.cloud (cf-courses-data.s3.us.cloud-object-storage.appdomain.cloud)... 169.63.118.104\n",
            "Connecting to cf-courses-data.s3.us.cloud-object-storage.appdomain.cloud (cf-courses-data.s3.us.cloud-object-storage.appdomain.cloud)|169.63.118.104|:443... connected.\n",
            "HTTP request sent, awaiting response... 200 OK\n",
            "Length: 45 [text/csv]\n",
            "Saving to: ‘exchange_rate.csv’\n",
            "\n",
            "exchange_rate.csv   100%[===================>]      45  --.-KB/s    in 0s      \n",
            "\n",
            "2023-10-21 12:28:54 (15.8 MB/s) - ‘exchange_rate.csv’ saved [45/45]\n",
            "\n"
          ]
        }
      ]
    },
    {
      "cell_type": "code",
      "source": [
        "# Code for ETL operations on Country-GDP data\n",
        "url = 'https://web.archive.org/web/20230908091635/https://en.wikipedia.org/wiki/List_of_largest_banks'\n",
        "\n",
        "output_path = 'market_cap.csv'\n",
        "table_attribs = [\"Name\", \"MC_USD_Billion\"]\n",
        "path = 'exchange_rate.csv'\n",
        "\n",
        "table_name = 'Largest_banks'\n",
        "db_name = 'Banks.db'\n",
        "\n",
        "\n",
        "# Importing the required libraries\n",
        "\n",
        "def log_progress(message):\n",
        "    ''' This function logs the mentioned message of a given stage of the\n",
        "    code execution to a log file. Function returns nothing'''\n",
        "    timestamp_format = '%Y-%m-%d-%H:%M:%S'\n",
        "    now = datetime.now()\n",
        "    timestamp = now.strftime(timestamp_format)\n",
        "    with open('./code_log.txt', \"a\") as f:\n",
        "      f.write(timestamp + \":\" + message + '\\n')\n",
        "\n",
        "def extract(url, table_attribs):\n",
        "    ''' This function aims to extract the required\n",
        "    information from the website and save it to a data frame. The\n",
        "    function returns the data frame for further processing. '''\n",
        "    page = requests.get(url).text\n",
        "    data = BeautifulSoup(page, 'html.parser')\n",
        "    df = pd.DataFrame(columns=table_attribs)\n",
        "    tables = data.find_all('tbody')\n",
        "    rows = tables[0].find_all('tr')\n",
        "\n",
        "    for row in rows:\n",
        "      col = row.find_all('td')\n",
        "      if len(col) != 0:\n",
        "        data_dict = {\"Name\": col[1].find_all('a')[1]['title'],\"MC_USD_Billion\": float(col[2].contents[0].strip())}\n",
        "        df1 = pd.DataFrame(data_dict, index=[0])\n",
        "        df = pd.concat([df, df1], ignore_index=True)\n",
        "\n",
        "    return df\n",
        "\n",
        "def transform(df, csv_path):\n",
        "    ''' This function accesses the CSV file for exchange rate\n",
        "    information, and adds three columns to the data frame, each\n",
        "    containing the transformed version of Market Cap column to\n",
        "    respective currencies'''\n",
        "    edf = pd.read_csv('exchange_rate.csv')\n",
        "    exchange_rate_dict = edf.set_index('Currency').to_dict()['Rate']\n",
        "    exchange_rate_dict\n",
        "\n",
        "    df['MC_GBP_Billion'] = [np.round(x*exchange_rate_dict['GBP'],2) for x in df['MC_USD_Billion']]\n",
        "    df['MC_EUR_Billion'] = [np.round(x*exchange_rate_dict['EUR'],2) for x in df['MC_USD_Billion']]\n",
        "    df['MC_INR_Billion'] = [np.round(x*exchange_rate_dict['INR'],2) for x in df['MC_USD_Billion']]\n",
        "\n",
        "    return df\n",
        "\n",
        "def load_to_csv(df, output_path):\n",
        "    ''' This function saves the final data frame as a CSV file in\n",
        "    the provided path. Function returns nothing.'''\n",
        "    df.to_csv(output_path, index=False)\n",
        "\n",
        "def load_to_db(df, sql_connection, table_name):\n",
        "    ''' This function saves the final dataframe as a database table\n",
        "    with the provided name. Function returns nothing.'''\n",
        "    df.to_sql(table_name, sql_connection, if_exists='replace', index=False)\n",
        "\n",
        "def run_query(query_statement, sql_connection):\n",
        "    ''' This function runs the query on the database table and\n",
        "    prints the output on the terminal. Function returns nothing. '''\n",
        "    print(query_statement)\n",
        "    output_statement = pd.read_sql(query_statement, sql_connection)\n",
        "    print(output_statement)\n",
        "\n",
        "''' Here, you define the required entities and call the relevant\n",
        "functions in the correct order to complete the project. Note that this\n",
        "portion is not inside any function.'''\n",
        "\n",
        "log_progress('Preliminaries complete. Initiating ETL process')\n",
        "\n",
        "df = extract(url, table_attribs)\n",
        "log_progress('Data extraction complete. Initiating Transformation process')\n",
        "\n",
        "df = transform(df, path)\n",
        "print(df['MC_EUR_Billion'][4])\n",
        "\n",
        "log_progress('Data transformation complete. Initiating loading process')\n",
        "load_to_csv(df, output_path)\n",
        "log_progress('Data saved to CSV file')\n",
        "\n",
        "log_progress('SQL Connection initiated.')\n",
        "sql_connection = sqlite3.connect(db_name)\n",
        "\n",
        "load_to_db(df, sql_connection, table_name)\n",
        "\n",
        "log_progress('Data loaded to Database as table. Running the query')\n",
        "\n",
        "query_statement = 'SELECT * FROM Largest_banks'\n",
        "run_query(query_statement, sql_connection)\n",
        "\n",
        "query_statement = 'SELECT AVG(MC_GBP_Billion) FROM Largest_banks'\n",
        "run_query(query_statement, sql_connection)\n",
        "\n",
        "query_statement = 'SELECT Name from Largest_banks LIMIT 5'\n",
        "run_query(query_statement, sql_connection)\n",
        "\n",
        "log_progress('Process Complete.')"
      ],
      "metadata": {
        "colab": {
          "base_uri": "https://localhost:8080/"
        },
        "id": "YZ3tZd7RNSF0",
        "outputId": "2ece4c75-e261-4f9b-da98-64f6753fc36d"
      },
      "execution_count": 6,
      "outputs": [
        {
          "output_type": "stream",
          "name": "stdout",
          "text": [
            "146.86\n",
            "SELECT * FROM Largest_banks\n",
            "             Name  MC_USD_Billion  MC_GBP_Billion  MC_EUR_Billion  \\\n",
            "0   United States          432.92          346.34          402.62   \n",
            "1   United States          231.52          185.22          215.31   \n",
            "2           China          194.56          155.65          180.94   \n",
            "3           China          160.68          128.54          149.43   \n",
            "4           India          157.91          126.33          146.86   \n",
            "5   United States          155.87          124.70          144.96   \n",
            "6  United Kingdom          148.90          119.12          138.48   \n",
            "7   United States          140.83          112.66          130.97   \n",
            "8           China          139.82          111.86          130.03   \n",
            "9           China          136.81          109.45          127.23   \n",
            "\n",
            "   MC_INR_Billion  \n",
            "0        35910.71  \n",
            "1        19204.58  \n",
            "2        16138.75  \n",
            "3        13328.41  \n",
            "4        13098.63  \n",
            "5        12929.42  \n",
            "6        12351.26  \n",
            "7        11681.85  \n",
            "8        11598.07  \n",
            "9        11348.39  \n",
            "SELECT AVG(MC_GBP_Billion) FROM Largest_banks\n",
            "   AVG(MC_GBP_Billion)\n",
            "0              151.987\n",
            "SELECT Name from Largest_banks LIMIT 5\n",
            "            Name\n",
            "0  United States\n",
            "1  United States\n",
            "2          China\n",
            "3          China\n",
            "4          India\n"
          ]
        }
      ]
    },
    {
      "cell_type": "code",
      "source": [],
      "metadata": {
        "id": "jigvwt46NSDX"
      },
      "execution_count": null,
      "outputs": []
    },
    {
      "cell_type": "code",
      "source": [],
      "metadata": {
        "id": "gZWdq7CKNSAp"
      },
      "execution_count": null,
      "outputs": []
    },
    {
      "cell_type": "code",
      "source": [],
      "metadata": {
        "id": "l8ujw1PTNR-b"
      },
      "execution_count": null,
      "outputs": []
    }
  ]
}