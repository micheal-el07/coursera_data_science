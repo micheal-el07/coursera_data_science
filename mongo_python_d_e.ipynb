{
  "nbformat": 4,
  "nbformat_minor": 0,
  "metadata": {
    "colab": {
      "provenance": [],
      "authorship_tag": "ABX9TyNESNKtpvLPalCu16zAwJz+",
      "include_colab_link": true
    },
    "kernelspec": {
      "name": "python3",
      "display_name": "Python 3"
    },
    "language_info": {
      "name": "python"
    }
  },
  "cells": [
    {
      "cell_type": "markdown",
      "metadata": {
        "id": "view-in-github",
        "colab_type": "text"
      },
      "source": [
        "<a href=\"https://colab.research.google.com/github/micheal-el07/coursera_data_science/blob/main/mongo_python_d_e.ipynb\" target=\"_parent\"><img src=\"https://colab.research.google.com/assets/colab-badge.svg\" alt=\"Open In Colab\"/></a>"
      ]
    },
    {
      "cell_type": "code",
      "execution_count": null,
      "metadata": {
        "id": "iOSK-tWxVSC0"
      },
      "outputs": [],
      "source": [
        "from pymongo import MongoClient\n",
        "user = 'root'\n",
        "password = 'MTk5MzMtbWlraGFp' # CHANGE THIS TO THE PASSWORD YOU NOTED IN THE EARLIER EXCERCISE - 2\n",
        "host='localhost'\n",
        "#create the connection url\n",
        "connecturl = \"mongodb://{}:{}@{}:27017/?authSource=admin\".format(user,password,host)\n",
        "\n",
        "# connect to mongodb server\n",
        "print(\"Connecting to mongodb server\")\n",
        "connection = MongoClient(connecturl)\n",
        "\n",
        "# select the 'training' database\n",
        "\n",
        "db = connection.training\n",
        "\n",
        "# select the 'python' collection\n",
        "\n",
        "collection = db.mongodb_glossary\n",
        "\n",
        "# create a sample document\n",
        "\n",
        "doc = [{\"database\":\"a database contains collections\"},{\"collection\":\"a collection stores the documents\"}, {\"document\":\"a document contains the data in the form of key value pairs.\"}]\n",
        "\n",
        "# insert a sample document\n",
        "\n",
        "print(\"Inserting a document into collection.\")\n",
        "for i in doc:\n",
        "    db.collection.insert_one(i)\n",
        "\n",
        "# query for all documents in 'training' database and 'python' collection\n",
        "\n",
        "docs = db.collection.find()\n",
        "\n",
        "print(\"Printing the documents in the collection.\")\n",
        "\n",
        "for document in docs:\n",
        "    print(document)\n",
        "\n",
        "# close the server connecton\n",
        "print(\"Closing the connection.\")\n",
        "connection.close()"
      ]
    }
  ]
}